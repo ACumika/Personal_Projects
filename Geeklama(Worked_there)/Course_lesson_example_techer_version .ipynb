{
 "cells": [
  {
   "cell_type": "markdown",
   "metadata": {},
   "source": [
    "# <span style=\"color:Darkorange\"> Lesson 1 Outline </span>\n",
    "\n",
    "In this lesson, we introduce kids to the first basics of python. Students will learn how to print, work with variables, receive input from the user, and concatenate strings. <br>\n",
    "\n",
    "- Intro and print function (Challenge 1.1) ~ 7 min\n",
    "- Variables values (Challenge 1.2)  ~ 10 min\n",
    "- Variable names ~ 7 min\n",
    "- Cell output (Disscussion) ~ 13 min\n",
    "- User input(Challenge 1.3) ~ 10 min\n",
    "- String concatenation (Discussion) ~ 13 min\n",
    "\n",
    "During this lesson, make sure to observe so that kids actually type the code, not copy and paste. That way, there is more chance that they will remember the material better. The practice is always good! Further, where we have bigger codes, they, of course, can copy and paste and change whatever they want to change. "
   ]
  },
  {
   "cell_type": "markdown",
   "metadata": {},
   "source": [
    "![image](./Images/Welcometext.jpg)\n",
    "\n",
    "**<span style=\"color:LIME\">Tell them the story in your own words. Welcome them to the island. Remember to keep the atmosphere of the adventure! </span>**\n",
    "\n",
    "# **<span style=\"color:Maroon\"> Print and error** \n",
    "\n",
    "## <CENTER><span style=\"color:Maroon\"> Challenge 1.1:</span> Say hello to the island</span>\n",
    "\n",
    "Type in the cell below:\n",
    "```python\n",
    "print \"Hello, Island.\"\n",
    "```\n",
    "to run the code in the cell, use shift+enter buttons on the keyboard.\n",
    "\n",
    "__<span style=\"color:MidnightBlue\">P.S.</span>__  # - is used for the comments in the cell and is not executed by the program\n",
    "\n",
    "   \n",
    "\n",
    "**<span style=\"color:LIME\"> Kids should not be afraid of the errors. Usually, errors are what stresses them out the most. Throughout the course, there are places where kids are asked to run the code with an artificial mistake. Kids have to learn how to handle errors, and it is better to go through this pain in class with a teacher, rather than they will suffer at home by themselves. </span>**\n",
    "    \n",
    "**<span style=\"color:LIME\"> Tell kids that errors are normal, most important is to read the error messages and use them for our advantage. </span>**"
   ]
  },
  {
   "cell_type": "code",
   "execution_count": 24,
   "metadata": {
    "scrolled": true
   },
   "outputs": [
    {
     "ename": "SyntaxError",
     "evalue": "Missing parentheses in call to 'print'. Did you mean print(\"Hello, Island.\")? (<ipython-input-24-539dd85e3c4e>, line 2)",
     "output_type": "error",
     "traceback": [
      "\u001b[1;36m  File \u001b[1;32m\"<ipython-input-24-539dd85e3c4e>\"\u001b[1;36m, line \u001b[1;32m2\u001b[0m\n\u001b[1;33m    print \"Hello, Island.\"\u001b[0m\n\u001b[1;37m                         ^\u001b[0m\n\u001b[1;31mSyntaxError\u001b[0m\u001b[1;31m:\u001b[0m Missing parentheses in call to 'print'. Did you mean print(\"Hello, Island.\")?\n"
     ]
    }
   ],
   "source": [
    "#Your code here\n",
    "print \"Hello, Island.\"\n",
    "#"
   ]
  },
  {
   "cell_type": "markdown",
   "metadata": {},
   "source": [
    "\n",
    "**<span style=\"color:LIme\"> Say: Well. Language on programming island is very peaky. You have to make sure you follow the syntax rules, so that python understands you</span>**\n",
    "\n",
    "\n",
    "![image](./Images/lama3.jpg)\n",
    "\n",
    "**<span style=\"color:LIME\"> Show them where is the error message and go through it. Explain what does it mean as well as the importance of the right syntax. Keep the story alive: the island that does not understand you if you make syntax errors. </span>**\n",
    "\n",
    "**<span style=\"color:LIme\">Say: However, most of the time, the error message helps us to find the mistake in the code. Island is smart, so most of the time it knows what was your error. What does the error say? <br></span>**\n",
    "\n",
    "Check, what the error message suggests and fix the code in the cell below. \n",
    "\n",
    "**<span style=\"color:LIme\">Point out that this is a print function, that we use to display the information to the user. <br></span>**"
   ]
  },
  {
   "cell_type": "code",
   "execution_count": 25,
   "metadata": {},
   "outputs": [
    {
     "name": "stdout",
     "output_type": "stream",
     "text": [
      "Hello, Island.\n"
     ]
    }
   ],
   "source": [
    "#Your code here\n",
    "print (\"Hello, Island.\")\n",
    "#"
   ]
  },
  {
   "cell_type": "markdown",
   "metadata": {},
   "source": [
    "## <CENTER>Great, you just earned your first <span style=\"color:Goldenrod\">coin</span> ! \n",
    "\n",
    "**<CENTER> <span style=\"color:Goldenrod\">Now you have to make sure that you do not loose your coins.\n",
    "<CENTER> We need a wallet where we can store the coins. <br> </span>**\n",
    "\n",
    "# **<span style=\"color:Maroon\"> Variables: values**     \n",
    "In python, we have variables where we can store data. Variable features:\n",
    "    \n",
    "- Anytime access\n",
    "- Reassign option\n",
    "    \n",
    "**<span style=\"color:LIme\">- We can access our data through the variable any time, once the data is assigned to the variable </span>**\n",
    "    \n",
    "**<span style=\"color:LIme\">- We can reassign variable to any other data </span>**\n",
    "       \n",
    "    \n",
    "To assign data to the variable, we use `=` sign. <br> \n",
    "    \n",
    "For example, type\n",
    "```python\n",
    "WalletValue = 0\n",
    "```\n",
    "to create the variable that stores the number of coins that you have. \n"
   ]
  },
  {
   "cell_type": "code",
   "execution_count": 26,
   "metadata": {},
   "outputs": [],
   "source": [
    "#Your code here\n",
    "WalletValue = 0\n",
    "#"
   ]
  },
  {
   "cell_type": "markdown",
   "metadata": {},
   "source": [
    "__<CENTER> <span style=\"color:Maroon\"> <CENTER>You just created your first variable!</span>__\n",
    "\n",
    "**<span style=\"color:LIme\">Say: You just created your first variable, and you will create a thousand more because variables are frequently used in programming. <br> We did not get any output, because we did not ask python to give us an output. <br></span>**\n",
    "Now type: \n",
    "```python\n",
    "WalletValue\n",
    "```\n",
    "    \n",
    "**<span style=\"color:LIME\">Here we show them that if we just type the variable we get the output and we can see that value (data) is stored in the variable.  </span>** <br>\n",
    "    \n",
    "**<span style=\"color:LIME\"> Point out that output has Out[#] next to it. This means that we are looking at the code output. Also, the number at the output matches the cell input number. This number is the order in which the cell was executed. If you run the same cell again, the number increases by 1. If you run another cell (it does not matter where in the notebook), the number of that cell will be the number of the cell that was executed before plus one </span>**"
   ]
  },
  {
   "cell_type": "code",
   "execution_count": 27,
   "metadata": {},
   "outputs": [
    {
     "data": {
      "text/plain": [
       "0"
      ]
     },
     "execution_count": 27,
     "metadata": {},
     "output_type": "execute_result"
    }
   ],
   "source": [
    "#Your code here\n",
    "WalletValue \n",
    "#"
   ]
  },
  {
   "cell_type": "markdown",
   "metadata": {},
   "source": [
    "**<span style=\"color:LIme\">Say: You earned a coin, and you want to add it to your value. We need to reassign the variable with new data. New data is actually our old value for the WalletValue plus 1.  <br></span>**\n",
    "\n",
    "\n",
    "For reassignment, we also use `=` sign. Type:\n",
    "```python\n",
    "WalletValue = WalletValue + 1\n",
    "WalletValue\n",
    "```\n",
    "to add the coin, you have earned, to your wallet\n",
    "\n",
    "**<span style=\"color:LIME\"> This is simple math that they should grasp fast; however, it is important to understand that we are adding not the word to the number but a number, that is in the variable, to another number.  </span>**\n",
    "\n",
    "**<span style=\"color:LIME\"> Also, point out that it is okay to update the variable the way we do it. In the beginning, they might get confused. We are just overwriting a new value to the variable. </span>**"
   ]
  },
  {
   "cell_type": "code",
   "execution_count": 28,
   "metadata": {},
   "outputs": [
    {
     "data": {
      "text/plain": [
       "1"
      ]
     },
     "execution_count": 28,
     "metadata": {},
     "output_type": "execute_result"
    }
   ],
   "source": [
    "#Your code here\n",
    "WalletValue = WalletValue + 1\n",
    "WalletValue\n",
    "#"
   ]
  },
  {
   "cell_type": "markdown",
   "metadata": {},
   "source": [
    "\n",
    "\n",
    "**<span style=\"color:LIme\">Say: As you can see, we can type more than one line of code in the cell. Jupyter is a very convenient framework to work in, where you can either type one line of code, to check how it works, or you can type many lines of code (even a full program).  <br></span>**\n",
    "\n",
    "## <CENTER><span style=\"color:Maroon\"> Challenge 1.2:</span> Rename your wallet </span>\n",
    "\n",
    "Let's give another name to the *WalletValue* variable, so it is easier to use. We suggest calling it *WV*. Assign a new name to the variable in the cell below:\n",
    "\n",
    "__<span style=\"color:MidnightBlue\">P.S.</span>__  Actually WalletValue variable stays in the memory. At this point, we have two variables with the same value. \n",
    "\n",
    "**<span style=\"color:LIME\">The idea is to show that we can assign another variable to the value that an existing variable has. Students might not understand right away that they should assign an existing variable to a new variable -> Make sure they understand this idea. <br> Show them in your notebook that WalletValue variable still has it's value. However, in the future code, we will use WV because it is faster to type. </span>**"
   ]
  },
  {
   "cell_type": "code",
   "execution_count": 29,
   "metadata": {},
   "outputs": [],
   "source": [
    "#Your code here\n",
    "WV = WalletValue\n",
    "#"
   ]
  },
  {
   "cell_type": "markdown",
   "metadata": {},
   "source": [
    "## <CENTER>Great job! You earned another <span style=\"color:Goldenrod\">coin</span> ! \n",
    "\n",
    "**<CENTER> <span style=\"color:Goldenrod\">Add it to your wallet!**\n",
    "    \n",
    "  \n",
    "Type the code for adding a coin to the wallet in the cell below:\n"
   ]
  },
  {
   "cell_type": "code",
   "execution_count": 30,
   "metadata": {},
   "outputs": [],
   "source": [
    "#Your code here\n",
    "\n",
    "#"
   ]
  },
  {
   "cell_type": "markdown",
   "metadata": {},
   "source": [
    "# **<span style=\"color:Maroon\"> Variables: types and names** \n",
    "    \n",
    "**<span style=\"color:LIme\">Say: Let's talk a bit more about variables.<br>\n",
    "Variables can be different types. Tell students that there are many variable types, but today we introduce only three. </span>**\n",
    "\n",
    "Today we introduce you to the three variable types: <br>\n",
    "\n",
    "- *integer* - **<span style=\"color:#40DC23 \"> a whole number (not a fraction) that can be positive (10), negative (-7), or zero (0).  </span>**\n",
    "- *float* - **<span style=\"color:#40DC23 \"> numbers with a fractional values, for example 0.5, -4,6. </span>**    \n",
    "- *string* - **<span style=\"color:#40DC23 \">  a sequence of characters used to represent a text. It could be one word, a sentence, or a full book. To assign a string, characters should be in the quotation marks.  </span>**  \n",
    "    \n",
    "**<span style=\"color:LIme\"> Say: On our island, you can name the variable with any name you can think of. However, you have to follow these three simple rules </span>**\n",
    "    \n",
    "### <center>**<span style=\"color:Maroon\"> Variable name rules:</span>**\n",
    "    \n",
    "1. Start with a letter or the underscore character (_)\n",
    "2. Use only letters (A-z), spaces, numeric (0-9) and underscore (_) characters\n",
    "3. Do not name your variable with a reserved word (see the table below). \n",
    "\n",
    "**<span style=\"color:LIme\"> Make a note that a variable can have a reserved word somewhere within the name; it just cannot be named exactly as the reserved word. One can call the variable 'And' because it has uppercase letter -> not exactly the reserved word. </span>**    \n",
    "    \n",
    "<img src=\"./Images/table.jpg\" width=\"60%\">\n",
    "\n",
    "__<span style=\"color:MidnightBlue\">P.S.</span>__  in Jupyter, if the word is highlighted with another color, you can't use it for the variable name)\n",
    "\n",
    "**<span style=\"color:LIME\"> Note that kids do not have to memorize these words. Also, they can always come back to this notebook to check something they have forgotten. </span>**\n",
    "    \n",
    "Let's see what happens if you try to name a variable ignoring the rules. Type:\n",
    "```python\n",
    "6name = 'John'\n",
    "```\n",
    "or \n",
    "```python\n",
    "name! = 'John'\n",
    "```\n",
    "or \n",
    "```python\n",
    "for = 'John'\n",
    "```\n",
    "    \n",
    "**<span style=\"color:LIme\"> Try all variants in the same cell, by changing the variable name. Tell students that the code in any cell can be edited at any time. The numbers next to the cell show the order in which the cells were executed. If you run the same cell more than once, the number next to the cell will also be increasing. Show students how this number next to the cell is changing when you run the cell. \n",
    " </span>**     \n"
   ]
  },
  {
   "cell_type": "code",
   "execution_count": 31,
   "metadata": {},
   "outputs": [
    {
     "ename": "SyntaxError",
     "evalue": "invalid syntax (<ipython-input-31-e7b8b7263890>, line 1)",
     "output_type": "error",
     "traceback": [
      "\u001b[1;36m  File \u001b[1;32m\"<ipython-input-31-e7b8b7263890>\"\u001b[1;36m, line \u001b[1;32m1\u001b[0m\n\u001b[1;33m    name! = 'Jonh'\u001b[0m\n\u001b[1;37m        ^\u001b[0m\n\u001b[1;31mSyntaxError\u001b[0m\u001b[1;31m:\u001b[0m invalid syntax\n"
     ]
    }
   ],
   "source": [
    "name! = 'Jonh'"
   ]
  },
  {
   "cell_type": "markdown",
   "metadata": {},
   "source": [
    "\n",
    "![image](./Images/lama3.jpg)\n",
    "\n",
    "As expected, we got an error! Therefore, make sure you name your variables with the correct names. <br>\n",
    "\n",
    "**<span style=\"color:LIME\"> Again, tell kids that errors are normal because we are all humans, and we make errors. The island is very peaky, so we have to be very careful with the code we are typing. <br> </span>**\n",
    "    \n",
    "Now introduce yourself. Create a variable with your first and last name, for example: \n",
    "```python\n",
    "name = ' John Smith'\n",
    "```\n",
    "    \n",
    "You can name your variable whatever you want. \n"
   ]
  },
  {
   "cell_type": "code",
   "execution_count": 32,
   "metadata": {},
   "outputs": [
    {
     "data": {
      "text/plain": [
       "'John Smith'"
      ]
     },
     "execution_count": 32,
     "metadata": {},
     "output_type": "execute_result"
    }
   ],
   "source": [
    "name = 'John Smith'\n",
    "name"
   ]
  },
  {
   "cell_type": "markdown",
   "metadata": {},
   "source": [
    "To check the variable type, we use `type()` function. \n",
    "\n",
    "**<span style=\"color:LIme\">Point out that in the parentheses, we type the value or variable name that we want to check. </span><br>**\n",
    "\n",
    "**<span style=\"color:LIme\">Say: In python programming, functions help us to perform different operations. Eventually, you will remember many basic functions, as well as, you will create your own functions. We are already familiar with a `print()` function. </span><br>**\n",
    "\n",
    "**<span style=\"color:LIme\">Tell students that if they forgot syntaxis or a function name, they could always refer to Google (or other search engines) for help. </span> <br>**\n",
    "\n",
    "\n",
    " \n",
    "\n",
    "In the cell below, check the types for the two variables that you have created. \n",
    "**<span style=\"color:LIme\">For example like that: </span> <br>**\n",
    "\n",
    "```python\n",
    "type(name)\n",
    "```\n",
    "\n",
    "**<span style=\"color:LIME\"> You can go back up to remind them the variable types. Before running the code, let kids guess what the output would be. </span>**\n"
   ]
  },
  {
   "cell_type": "code",
   "execution_count": 33,
   "metadata": {},
   "outputs": [
    {
     "data": {
      "text/plain": [
       "str"
      ]
     },
     "execution_count": 33,
     "metadata": {},
     "output_type": "execute_result"
    }
   ],
   "source": [
    "#Your code here\n",
    "type(name)\n",
    "#"
   ]
  },
  {
   "cell_type": "markdown",
   "metadata": {},
   "source": [
    "# **<span style=\"color:Maroon\"> Cell output** \n",
    "\n",
    "Try checking two variables in one cell like that:\n",
    "```python\n",
    "type(name)\n",
    "type(WV)\n",
    "```\n",
    "**<span style=\"color:LIME\">This is more on the Jupyter syntaxis. However, useful to introduce that it outputs only the last variable (or any action that has an output).</span>**    "
   ]
  },
  {
   "cell_type": "code",
   "execution_count": 34,
   "metadata": {},
   "outputs": [
    {
     "data": {
      "text/plain": [
       "int"
      ]
     },
     "execution_count": 34,
     "metadata": {},
     "output_type": "execute_result"
    }
   ],
   "source": [
    "#Your code here\n",
    "type(name)\n",
    "type(WV)\n",
    "#"
   ]
  },
  {
   "cell_type": "markdown",
   "metadata": {},
   "source": [
    "## **<CENTER> <span style=\"color:Maroon\"> Ooops!** \n",
    "**<CENTER> <span style=\"color:Maroon\"> It seems that we can see the output only for the last line...**</span>\n",
    "\n",
    "**<span style=\"color:LIme\">Say: By simply typing a variable or a value, you can only see one value at the time. </span> <br>**\n",
    "\n",
    "To see multiple variables values, use the print function (no quotes). \n",
    "\n",
    "**<span style=\"color:LIme\">Say: To print a variable, we do not have to use quotes as with the simple text. <br> Show which quotes we are talking about, so students do not confude with the paretheses. </span> <br> <br>**\n",
    "Execute the following cells below.\n",
    "    \n",
    " **<span style=\"color:LIME\">As they execute the code, also execute the code on your screen. </span>**"
   ]
  },
  {
   "cell_type": "code",
   "execution_count": 35,
   "metadata": {},
   "outputs": [
    {
     "data": {
      "text/plain": [
       "4"
      ]
     },
     "execution_count": 35,
     "metadata": {},
     "output_type": "execute_result"
    }
   ],
   "source": [
    "4"
   ]
  },
  {
   "cell_type": "code",
   "execution_count": 36,
   "metadata": {},
   "outputs": [
    {
     "data": {
      "text/plain": [
       "'b variable'"
      ]
     },
     "execution_count": 36,
     "metadata": {},
     "output_type": "execute_result"
    }
   ],
   "source": [
    "b='b variable'\n",
    "4\n",
    "b"
   ]
  },
  {
   "cell_type": "code",
   "execution_count": 37,
   "metadata": {},
   "outputs": [
    {
     "name": "stdout",
     "output_type": "stream",
     "text": [
      "b variable 1\n",
      "Variable b has the value b variable and variable WV has value 1\n",
      "I have 1 coins\n"
     ]
    }
   ],
   "source": [
    "b\n",
    "print(b,WV)\n",
    "print('Variable b has the value',b,'and variable WV has value',WV)\n",
    "print('I have', WV ,'coins')"
   ]
  },
  {
   "cell_type": "code",
   "execution_count": 38,
   "metadata": {},
   "outputs": [
    {
     "name": "stdout",
     "output_type": "stream",
     "text": [
      "Hello\n"
     ]
    },
    {
     "data": {
      "text/plain": [
       "'b variable'"
      ]
     },
     "execution_count": 38,
     "metadata": {},
     "output_type": "execute_result"
    }
   ],
   "source": [
    "print('Hello')\n",
    "b"
   ]
  },
  {
   "cell_type": "markdown",
   "metadata": {},
   "source": [
    "\n",
    "## <center><span style=\"color:MidnightBlue\">What do you observe?</span> \n",
    "\n",
    "\n",
    "<center>What differences do you observe in the codes above? <br>\n",
    "\n",
    "**<span style=\"color:LIme\">Discuss all the differences you see in the codes' inputs and outputs. Let students speak up. Help them to find the differences. If students do not find some differences: <br>\n",
    "    1.Point out that if we do not use print function, only the last value is shown, and we have 'Out[ ]' next to the output. <br>\n",
    "    2.With print function, we can display as much information as we want. <br>\n",
    "    3.When we use only print function, there is no 'Out[ ]', we are just displaying he values, so there is no actual code output. </span> <br>**\n",
    "\n",
    "![image](./Images/Diss.jpg)\n",
    "\n",
    "In the cell bellow, using your variables, print a sentence like this: <br>\n",
    "> My name is `your name` , and I have `#` coins in my wallet. "
   ]
  },
  {
   "cell_type": "code",
   "execution_count": 39,
   "metadata": {},
   "outputs": [
    {
     "name": "stdout",
     "output_type": "stream",
     "text": [
      "My name is John Smith , and I have 1 coins.\n"
     ]
    }
   ],
   "source": [
    "#Your code here\n",
    "print('My name is', name,', and I have', WV, 'coins.')\n",
    "#"
   ]
  },
  {
   "cell_type": "markdown",
   "metadata": {},
   "source": [
    "# **<span style=\"color:Maroon\"> User input** \n",
    "\n",
    "**<span style=\"color:LIme\">Tell that in python you can also get an input from the user, which is called 'prompt' . </span> <br>**\n",
    "    \n",
    "To receive an input, use `input()` function. In the parentheses, we type the message that is displayed to the user. <br> \n",
    "    \n",
    "In the cell below, execute the following code:\n",
    "```python\n",
    "input('show me your input ')\n",
    "```\n",
    "\n",
    "__<span style=\"color:MidnightBlue\">P.S.</span>__  the space at the end of the sentence is preferred, so that when the user types the input, it is not glued to your sentence. <br>\n",
    "\n",
    "**<span style=\"color:LIME\">Pay attention that if there is no space before we close the quotes, we have the input glued to the printed text</span>**"
   ]
  },
  {
   "cell_type": "code",
   "execution_count": 40,
   "metadata": {},
   "outputs": [
    {
     "name": "stdout",
     "output_type": "stream",
     "text": [
      "show me your input Hey\n"
     ]
    },
    {
     "data": {
      "text/plain": [
       "'Hey'"
      ]
     },
     "execution_count": 40,
     "metadata": {},
     "output_type": "execute_result"
    }
   ],
   "source": [
    "#Your code here\n",
    "input('show me your input ')\n",
    "#"
   ]
  },
  {
   "cell_type": "markdown",
   "metadata": {},
   "source": [
    "\n",
    "**<span style=\"color:LIme\">Tell that we got the input from the user; however, it would be useful to store the input in the variable. </span> <br>**\n",
    "\n",
    "**<span style=\"color:LIME\"> Point out that the output we see here is what the user has entered. It happens because we have not assigned the user input to the variable. </span>**\n",
    "\n",
    "## <CENTER><span style=\"color:Maroon\"> Challenge 1.3:</span> Get to know island inhabitans </span>\n",
    "\n",
    "Introduce yourself. Then ask the name of the island inhabitant and say hi to him/her. Make sure you use your name variable. Store the input in another variable, and use it when you say hi to the inhabitant. The dialogue should look like that:\n",
    "> Hi, my name is `your name` , and I want to get to know you. <br>\n",
    "> What is your name? <br>\n",
    "> Nice to meet you, `inhabitants name`.\n",
    "\n",
    "__<span style=\"color:MidnightBlue\">P.S.</span>__ For extra coins, expand your dialogue. Add more variables about yourself and get to know more info about the island inhabitans<br>\n",
    "\n",
    "**<span style=\"color:LIME\">Teacher is the inhabitant, so they are interacting with you. When their code is ready, they can ask you questions and type an answer for you. Ask one kid to share a screen with their code. <br> Teacher decides, who gets extra. And how much (1 or 2)</span>**"
   ]
  },
  {
   "cell_type": "code",
   "execution_count": 42,
   "metadata": {},
   "outputs": [
    {
     "name": "stdout",
     "output_type": "stream",
     "text": [
      "Hi, my name is John Smith , and I want to get to know you.\n",
      "What is your name? Mia\n",
      "Nice to meet you Mia !\n"
     ]
    }
   ],
   "source": [
    "#Your code here\n",
    "print('Hi, my name is', name, ', and I want to get to know you.')\n",
    "inh = input('What is your name? ')\n",
    "print('Nice to meet you', inh,'!')\n",
    "#"
   ]
  },
  {
   "cell_type": "markdown",
   "metadata": {},
   "source": [
    "## <CENTER>Once your code works well, add 2 more  <span style=\"color:Goldenrod\">coin</span> to your wallet! You earned them! \n",
    "\n",
    "**<CENTER> <span style=\"color:Goldenrod\">If you did extra work, you will get an extra coin or two.\n",
    "<CENTER> Add your coins to the wallet <br> </span>**\n",
    "    \n",
    "\n"
   ]
  },
  {
   "cell_type": "code",
   "execution_count": 43,
   "metadata": {},
   "outputs": [],
   "source": [
    "#Your code here\n",
    "\n",
    "#"
   ]
  },
  {
   "cell_type": "markdown",
   "metadata": {},
   "source": [
    "# **<span style=\"color:Maroon\"> String concatenation**  \n",
    "\n",
    "**<span style=\"color:LIme\">Say: The last thing we learn today is the string concatenation, which allows you to 'glue' the strings together. That way you can make a word out of letters, sentence out of words and etc. <br>\n",
    "    You could have noticed that if we put a comma after the variable, it will always save the space before the comma, but we do not want that space to be there. String concatenation can help us with that. In general, we always want to make sure that when we display a message to the user, it appears grammatically correct and easy to read.  </span> <br>**\n",
    "\n",
    "String concatenation is performed with the `+` operator. <br>\n",
    "    \n",
    "For example, in the cell bellow type:\n",
    "```python\n",
    "'I' + 'learn' + 'programming'\n",
    "```\n",
    "**<span style=\"color:LIME\"> Tell in your own words what concatenation is.  </span>**    "
   ]
  },
  {
   "cell_type": "code",
   "execution_count": 44,
   "metadata": {},
   "outputs": [
    {
     "data": {
      "text/plain": [
       "'Ilearnprogramming'"
      ]
     },
     "execution_count": 44,
     "metadata": {},
     "output_type": "execute_result"
    }
   ],
   "source": [
    "#Your code here\n",
    "'I' + 'learn' + 'programming'\n",
    "#"
   ]
  },
  {
   "cell_type": "markdown",
   "metadata": {},
   "source": [
    "**<span style=\"color:LIme\">Say: You can observe that words are glued together. To avoid that, we have to add space. There are multiple ways we can do that.  </span> <br>**\n",
    "\n",
    "Run the code below to see how to add spaces between the concatenated strings. \n",
    "\n",
    "**<span style=\"color:LIME\"> Point out that when we are writing the code, we care about our output. Python does not see this kind of errors (not something the island cares about). However, your code might not be readable to the user (island inhabitant) </span>**"
   ]
  },
  {
   "cell_type": "code",
   "execution_count": 45,
   "metadata": {},
   "outputs": [
    {
     "name": "stdout",
     "output_type": "stream",
     "text": [
      "I learn programming\n",
      "I learn programming\n",
      "I learn programming\n"
     ]
    }
   ],
   "source": [
    "print('I ' + 'learn ' + 'programming')\n",
    "print('I'+' learn'+' programming')\n",
    "print('I' + ' ' + 'learn' + ' ' + 'programming')"
   ]
  },
  {
   "cell_type": "markdown",
   "metadata": {},
   "source": [
    "## <center><span style=\"color:MidnightBlue\">What do you observe?</span> \n",
    "\n",
    "\n",
    "<center>- How can we add the space between the strings when we concatenate strings? <br> \n",
    "\n",
    "**<span style=\"color:LIme\"> Make sure students understand all three ways: <br> \n",
    "1.Space after the string <br> \n",
    "2.Space before the string <br>\n",
    "3.Concatenate extra string that consists only of space</span> <br>**\n",
    "    \n",
    "<center>- Does the space outside the quotation marks matters? <br>\n",
    "\n",
    "**<span style=\"color:LIme\"> It does not matter. </span> <br>**\n",
    "\n",
    "\n",
    "![image](./Images/Diss.jpg)\n",
    "\n",
    "Try concatenating a string to the int (or float) like that:\n",
    "```python\n",
    "'text' + 4\n",
    "```\n",
    "or with our variables \n",
    "```python\n",
    "name + WV\n",
    "``` \n",
    "**<span style=\"color:LIME\"> This code will give an error. The idea is to show that we cannot concatenate the string to the number </span>**"
   ]
  },
  {
   "cell_type": "code",
   "execution_count": 46,
   "metadata": {},
   "outputs": [
    {
     "ename": "TypeError",
     "evalue": "can only concatenate str (not \"int\") to str",
     "output_type": "error",
     "traceback": [
      "\u001b[1;31m---------------------------------------------------------------------------\u001b[0m",
      "\u001b[1;31mTypeError\u001b[0m                                 Traceback (most recent call last)",
      "\u001b[1;32m<ipython-input-46-249db631ae3c>\u001b[0m in \u001b[0;36m<module>\u001b[1;34m\u001b[0m\n\u001b[0;32m      1\u001b[0m \u001b[1;31m#Your code here\u001b[0m\u001b[1;33m\u001b[0m\u001b[1;33m\u001b[0m\u001b[1;33m\u001b[0m\u001b[0m\n\u001b[1;32m----> 2\u001b[1;33m \u001b[1;34m'text'\u001b[0m \u001b[1;33m+\u001b[0m \u001b[1;36m4\u001b[0m\u001b[1;33m\u001b[0m\u001b[1;33m\u001b[0m\u001b[0m\n\u001b[0m\u001b[0;32m      3\u001b[0m \u001b[1;31m#\u001b[0m\u001b[1;33m\u001b[0m\u001b[1;33m\u001b[0m\u001b[1;33m\u001b[0m\u001b[0m\n",
      "\u001b[1;31mTypeError\u001b[0m: can only concatenate str (not \"int\") to str"
     ]
    }
   ],
   "source": [
    "#Your code here\n",
    "'text' + 4\n",
    "#"
   ]
  },
  {
   "cell_type": "markdown",
   "metadata": {},
   "source": [
    "![image](./Images/lama3.jpg)\n",
    "\n",
    "**<span style=\"color:LIme\"> Say: You can concatenate only str to str. If you want to concatenate a string to int or float, you have to convert the number to the str  </span> <br>**\n",
    "\n",
    "The code to convert number to str:\n",
    "```python\n",
    "srt(5)\n",
    "```\n",
    "or\n",
    "```python\n",
    "srt(variable type int or float)\n",
    "```\n",
    "Try converting the integer to the string in the cell bellow. And concatenate it to some string<br>\n",
    "\n",
    "**<span style=\"color:LIME\">Help them our if they struggle. Each can have different versions of the code. Let them speak up to what they do. They can try converting their wallet variable value to a string. Or just a random number. </span>**\n"
   ]
  },
  {
   "cell_type": "code",
   "execution_count": 47,
   "metadata": {},
   "outputs": [
    {
     "name": "stdout",
     "output_type": "stream",
     "text": [
      "The number I like is 5\n"
     ]
    }
   ],
   "source": [
    "#Your code here\n",
    "print('The number I like is '+str(5))\n",
    "#"
   ]
  },
  {
   "cell_type": "markdown",
   "metadata": {},
   "source": [
    "**<span style=\"color:LIME\">Say: Okay, that was a good start, wasn't it? <br>\n",
    "There is a first HW for you.  </span>**\n",
    "\n",
    "\n",
    "\n",
    "# <span style=\"color:Maroon\">Homework 1:</span> Guess the word! \n",
    "![image](./Images/HW.jpg)\n",
    " \n",
    "Create a word guessing game, where the user has to guess each letter. For example, you gues the word `bug`. User has to guess three letters\n",
    "- `b` -> What is the second letter of the alphabet?\n",
    "- `u` -> What is the first letter of the synonym to the word 'beautiful'?\n",
    "- `g` -> Fourth letter of the name of the game where the numbers are called (randomly drawn), and the player has to cover a given arrangement of numbers (usually a line of 5 numbers).    \n",
    "The game should be written in a single cell. In the beginning, the program should display the concept of the game. Then the user is asked to guess a letter one (user is given a hint for each letter, such as shown in the example). After the user enters all the letters, the program displays the word made out of the letters the user has entered. The word must be a minimum of 5 letters and a maximum of 10 letters.\n",
    "\n",
    "__<span style=\"color:MidnightBlue\">P.S.</span>__  Testing a code line by line is a good practice. Besides, in case your big code has an error, you can test different lines of the code in the separate cell. \n",
    "\n",
    "**<span style=\"color:LIME\"> Students are asked to send the filled notebook (filled by them - they all have unique notebooks with their names and variables) with the HW to the teacher. The due date is up to the teacher. When setting a due date, keep in mind that it is better to have checked notebooks before the next lesson. In the next lesson, the teacher tells each student how many coins they got for the HW. Also, for the teacher, it is good to count students' coins in Excel, for example, to avoid cheating and to see how each kid is performing.  </span>**\n",
    "<br>  \n",
    "<center> You can earn maximum <span style=\"color:Goldenrod;font-weight:bold\">4 coins</span> for this homework\n",
    "\n",
    "**<span style=\"color:LIME\"> 4 coins are given if the task is 100% completed. If there are mistakes or some parts of the exercise are not done. Teacher makes a decision on how many coins the student has earned  </span>**"
   ]
  },
  {
   "cell_type": "code",
   "execution_count": 48,
   "metadata": {},
   "outputs": [
    {
     "name": "stdout",
     "output_type": "stream",
     "text": [
      "Hello! You have to guess the word, by guessing the letters. I will give you the hints.\n",
      "What is the second letter of the alphabet? b\n",
      "What is the first letter of the synonym to the word beautiful? u\n",
      "Fourth letter of the name of the game where the numbers are called (randomly drawn), and the player has to cover a given arrangement of numbers (usually a line of 5 numbers).  g\n",
      "The word you got is: bug\n",
      "The word I guessed was: bug\n"
     ]
    }
   ],
   "source": [
    "#Your code here\n",
    "print('Hello! You have to guess the word, by guessing the letters. I will give you the hints.')\n",
    "l1 = input('What is the second letter of the alphabet? ')\n",
    "l2 = input('What is the first letter of the synonym to the word beautiful? ')\n",
    "l3 = input('Fourth letter of the name of the game where the numbers are called (randomly drawn), and the player has to cover a given arrangement of numbers (usually a line of 5 numbers).  ')\n",
    "print('The word you got is:', l1+l2+l3)\n",
    "print('The word I guessed was: bug')\n",
    "#\n"
   ]
  },
  {
   "cell_type": "code",
   "execution_count": null,
   "metadata": {},
   "outputs": [],
   "source": []
  }
 ],
 "metadata": {
  "kernelspec": {
   "display_name": "Python 3",
   "language": "python",
   "name": "python3"
  },
  "language_info": {
   "codemirror_mode": {
    "name": "ipython",
    "version": 3
   },
   "file_extension": ".py",
   "mimetype": "text/x-python",
   "name": "python",
   "nbconvert_exporter": "python",
   "pygments_lexer": "ipython3",
   "version": "3.7.6"
  }
 },
 "nbformat": 4,
 "nbformat_minor": 2
}
