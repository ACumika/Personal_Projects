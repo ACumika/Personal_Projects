{
 "cells": [
  {
   "cell_type": "markdown",
   "metadata": {},
   "source": [
    "![image](./Images/Welcometext.jpg)\n",
    "\n",
    "# **<span style=\"color:Maroon\"> Print and error** \n",
    "\n",
    "## <CENTER><span style=\"color:Maroon\"> Challenge 1.1:</span> Say hello to the island</span>\n",
    "\n",
    "Type in the cell below:\n",
    "```python\n",
    "print \"Hello, Island.\"\n",
    "```\n",
    "to run the code in the cell, use shift+enter buttons on the keyboard.\n",
    "\n",
    "__<span style=\"color:MidnightBlue\">P.S.</span>__  # - is used for the comments in the cell and is not executed by the program\n",
    "\n",
    "  "
   ]
  },
  {
   "cell_type": "code",
   "execution_count": null,
   "metadata": {
    "scrolled": true
   },
   "outputs": [],
   "source": [
    "#Your code here\n",
    "\n",
    "#"
   ]
  },
  {
   "cell_type": "markdown",
   "metadata": {},
   "source": [
    "\n",
    "![image](./Images/lama3.jpg)\n",
    "\n",
    "Check, what the error message suggests and fix the code in the cell below. \n"
   ]
  },
  {
   "cell_type": "code",
   "execution_count": null,
   "metadata": {},
   "outputs": [],
   "source": [
    "#Your code here\n",
    "\n",
    "#"
   ]
  },
  {
   "cell_type": "markdown",
   "metadata": {},
   "source": [
    "## <CENTER>Great, you just earned your first <span style=\"color:Goldenrod\">coin</span> ! \n",
    "\n",
    "**<CENTER> <span style=\"color:Goldenrod\">Now you have to make sure that you do not loose your coins.\n",
    "<CENTER> We need a wallet where we can store the coins. <br> </span>**\n",
    "\n",
    "# **<span style=\"color:Maroon\"> Variables: values**     \n",
    "In python, we have variables where we can store data. Variable features:\n",
    "    \n",
    "- Anytime access\n",
    "- Reassign option      \n",
    "    \n",
    "To assign data to the variable, we use `=` sign. <br> \n",
    "    \n",
    "For example, type\n",
    "```python\n",
    "WalletValue = 0\n",
    "```\n",
    "to create the variable that stores the number of coins that you have. \n"
   ]
  },
  {
   "cell_type": "code",
   "execution_count": null,
   "metadata": {},
   "outputs": [],
   "source": [
    "#Your code here\n",
    "\n",
    "#"
   ]
  },
  {
   "cell_type": "markdown",
   "metadata": {},
   "source": [
    "__<CENTER> <span style=\"color:Maroon\"> <CENTER>You just created your first variable!</span>__\n",
    "\n",
    "Now type: \n",
    "```python\n",
    "WalletValue\n",
    "```\n",
    "to see what value is stored in the variable   "
   ]
  },
  {
   "cell_type": "code",
   "execution_count": null,
   "metadata": {},
   "outputs": [],
   "source": [
    "#Your code here\n",
    " \n",
    "#"
   ]
  },
  {
   "cell_type": "markdown",
   "metadata": {},
   "source": [
    "\n",
    "For reassignment, we also use `=` sign. Type:\n",
    "```python\n",
    "WalletValue = WalletValue + 1\n",
    "WalletValue\n",
    "```\n",
    "to add the coin, you have earned, to your wallet"
   ]
  },
  {
   "cell_type": "code",
   "execution_count": null,
   "metadata": {},
   "outputs": [],
   "source": [
    "#Your code here\n",
    "\n",
    "#"
   ]
  },
  {
   "cell_type": "markdown",
   "metadata": {},
   "source": [
    "\n",
    "## <CENTER><span style=\"color:Maroon\"> Challenge 1.2:</span> Rename your wallet </span>\n",
    "\n",
    "Let's give another name to the *WalletValue* variable, so it is easier to use. We suggest calling it *WV*. Assign a new name to the variable in the cell below:\n",
    "\n",
    "__<span style=\"color:MidnightBlue\">P.S.</span>__  Actually WalletValue variable stays in the memory. At this point, we have two variables with the same value. \n"
   ]
  },
  {
   "cell_type": "code",
   "execution_count": null,
   "metadata": {},
   "outputs": [],
   "source": [
    "#Your code here\n",
    "\n",
    "#"
   ]
  },
  {
   "cell_type": "markdown",
   "metadata": {},
   "source": [
    "## <CENTER>Great job! You earned another <span style=\"color:Goldenrod\">coin</span> ! \n",
    "\n",
    "**<CENTER> <span style=\"color:Goldenrod\">Add it to your wallet!**\n",
    "    \n",
    "  \n",
    "Type the code for adding a coin to the wallet in the cell below:\n"
   ]
  },
  {
   "cell_type": "code",
   "execution_count": null,
   "metadata": {},
   "outputs": [],
   "source": [
    "#Your code here\n",
    "\n",
    "#"
   ]
  },
  {
   "cell_type": "markdown",
   "metadata": {},
   "source": [
    "# **<span style=\"color:Maroon\"> Variables: types and names** \n",
    "    \n",
    "\n",
    "Today we introduce you to the three variable types: <br>\n",
    "\n",
    "- *integer* - a whole number (not a fraction) that can be positive (10), negative (-7), or zero (0).\n",
    "- *float* - numbers with a fractional values, for example 0.5, -4,6.  \n",
    "- *string* - a sequence of characters used to represent a text. It could be one word, a sentence, or a full book. To assign a string, characters should be in the quotation marks.  \n",
    "    \n",
    "    \n",
    "### <center>**<span style=\"color:Maroon\"> Variable name rules:</span>**\n",
    "    \n",
    "1. Start with a letter or the underscore character (_)\n",
    "2. Use only letters (A-z), spaces, numeric (0-9) and underscore (_) characters\n",
    "3. Do not name your variable with a reserved word (see the table below). \n",
    "  \n",
    "    \n",
    "<img src=\"./Images/table.jpg\" width=\"60%\">\n",
    "\n",
    "__<span style=\"color:MidnightBlue\">P.S.</span>__  in Jupyter, if the word is highlighted with another color, you can't use it for the variable name)\n",
    "    \n",
    "Let's see what happens if you try to name a variable ignoring the rules. Type:\n",
    "```python\n",
    "6name = 'John'\n",
    "```\n",
    "or \n",
    "```python\n",
    "name! = 'John'\n",
    "```\n",
    "or \n",
    "```python\n",
    "for = 'John'\n",
    "```\n",
    "    "
   ]
  },
  {
   "cell_type": "code",
   "execution_count": null,
   "metadata": {},
   "outputs": [],
   "source": [
    "name! = 'Jonh'"
   ]
  },
  {
   "cell_type": "markdown",
   "metadata": {},
   "source": [
    "\n",
    "![image](./Images/lama3.jpg)\n",
    "\n",
    "As expected, we got an error! Therefore, make sure you name your variables with the correct names. <br>\n",
    "\n",
    "Now introduce yourself. Create a variable with your first and last name, for example: \n",
    "```python\n",
    "name = ' John Smith'\n",
    "```\n",
    "    \n",
    "You can name your variable whatever you want. \n"
   ]
  },
  {
   "cell_type": "code",
   "execution_count": null,
   "metadata": {},
   "outputs": [],
   "source": [
    "name = 'John Smith'\n",
    "name"
   ]
  },
  {
   "cell_type": "markdown",
   "metadata": {},
   "source": [
    "To check the variable type, we use `type()` function. \n",
    "\n",
    "\n",
    "In the cell below, check the types for the two variables that you have created with: \n",
    "\n",
    "\n",
    "```python\n",
    "type(name)\n",
    "```\n",
    "\n"
   ]
  },
  {
   "cell_type": "code",
   "execution_count": null,
   "metadata": {},
   "outputs": [],
   "source": [
    "#Your code here\n",
    "\n",
    "#"
   ]
  },
  {
   "cell_type": "markdown",
   "metadata": {},
   "source": [
    "# **<span style=\"color:Maroon\"> Cell output** \n",
    "\n",
    "Try checking two variables in one cell like that:\n",
    "```python\n",
    "type(name)\n",
    "type(WV)\n",
    "```\n",
    "    "
   ]
  },
  {
   "cell_type": "code",
   "execution_count": null,
   "metadata": {},
   "outputs": [],
   "source": [
    "#Your code here\n",
    "\n",
    "#"
   ]
  },
  {
   "cell_type": "markdown",
   "metadata": {},
   "source": [
    "## **<CENTER> <span style=\"color:Maroon\"> Ooops!** \n",
    "**<CENTER> <span style=\"color:Maroon\"> It seems that we can see the output only for the last line...**</span>\n",
    "\n",
    "To see multiple variables values, use the print function (no quotes).<br>\n",
    "Check the codes below\n"
   ]
  },
  {
   "cell_type": "code",
   "execution_count": null,
   "metadata": {},
   "outputs": [],
   "source": [
    "4"
   ]
  },
  {
   "cell_type": "code",
   "execution_count": null,
   "metadata": {},
   "outputs": [],
   "source": [
    "b='b variable'\n",
    "4\n",
    "b"
   ]
  },
  {
   "cell_type": "code",
   "execution_count": null,
   "metadata": {},
   "outputs": [],
   "source": [
    "b\n",
    "print(b,WV)\n",
    "print('Variable b has the value',b,'and variable WV has value',WV)\n",
    "print('I have', WV ,'coins')"
   ]
  },
  {
   "cell_type": "code",
   "execution_count": null,
   "metadata": {},
   "outputs": [],
   "source": [
    "print('Hello')\n",
    "b"
   ]
  },
  {
   "cell_type": "markdown",
   "metadata": {},
   "source": [
    "\n",
    "## <center><span style=\"color:MidnightBlue\">What do you observe?</span> \n",
    "\n",
    "\n",
    "<center>What differences do you observe in the codes above? <br>\n",
    "\n",
    "\n",
    "![image](./Images/Diss.jpg)\n",
    "\n",
    "In the cell bellow, using your variables, print a sentence like this: <br>\n",
    "> My name is `your name` , and I have `#` coins in my wallet. "
   ]
  },
  {
   "cell_type": "code",
   "execution_count": null,
   "metadata": {},
   "outputs": [],
   "source": [
    "#Your code here\n",
    "\n",
    "#"
   ]
  },
  {
   "cell_type": "markdown",
   "metadata": {},
   "source": [
    "# **<span style=\"color:Maroon\"> User input** \n",
    "    \n",
    "To receive an input, use `input()` function. In the parentheses, we type the message that is displayed to the user. <br> \n",
    "    \n",
    "In the cell below, execute the following code:\n",
    "```python\n",
    "input('show me your input ')\n",
    "```\n",
    "\n",
    "__<span style=\"color:MidnightBlue\">P.S.</span>__  the space at the end of the sentence is preferred, so that when the user types the input, it is not glued to your sentence. <br>\n"
   ]
  },
  {
   "cell_type": "code",
   "execution_count": null,
   "metadata": {},
   "outputs": [],
   "source": [
    "#Your code here\n",
    "\n",
    "#"
   ]
  },
  {
   "cell_type": "markdown",
   "metadata": {},
   "source": [
    "\n",
    "## <CENTER><span style=\"color:Maroon\"> Challenge 1.3:</span> Get to know island inhabitans </span>\n",
    "\n",
    "Introduce yourself. Then ask the name of the island inhabitant and say hi to him/her. Make sure you use your name variable. Store the input in another variable, and use it when you say hi to the inhabitant. The dialogue should look like that:\n",
    "> Hi, my name is `your name` , and I want to get to know you. <br>\n",
    "> What is your name? <br>\n",
    "> Nice to meet you, `inhabitants name`.\n",
    "\n",
    "__<span style=\"color:MidnightBlue\">P.S.</span>__ For extra coins, expand your dialogue. Add more variables about yourself and get to know more info about the island inhabitans<br>\n"
   ]
  },
  {
   "cell_type": "code",
   "execution_count": null,
   "metadata": {},
   "outputs": [],
   "source": [
    "#Your code here\n",
    "\n",
    "#"
   ]
  },
  {
   "cell_type": "markdown",
   "metadata": {},
   "source": [
    "## <CENTER>Once your code works well, add 2 more  <span style=\"color:Goldenrod\">coin</span> to your wallet! You earned them! \n",
    "\n",
    "**<CENTER> <span style=\"color:Goldenrod\">If you did extra work, you will get an extra coin or two.\n",
    "<CENTER> Add your coins to the wallet <br> </span>**\n",
    "    \n",
    "\n"
   ]
  },
  {
   "cell_type": "code",
   "execution_count": null,
   "metadata": {},
   "outputs": [],
   "source": [
    "#Your code here\n",
    "\n",
    "#"
   ]
  },
  {
   "cell_type": "markdown",
   "metadata": {},
   "source": [
    "# **<span style=\"color:Maroon\"> String concatenation**  \n",
    "\n",
    "String concatenation is performed with the `+` operator. <br>\n",
    "    \n",
    "For example, in the cell bellow type:\n",
    "```python\n",
    "'I' + 'learn' + 'programming'\n",
    "```\n",
    " "
   ]
  },
  {
   "cell_type": "code",
   "execution_count": null,
   "metadata": {},
   "outputs": [],
   "source": [
    "#Your code here\n",
    "\n",
    "#"
   ]
  },
  {
   "cell_type": "markdown",
   "metadata": {},
   "source": [
    "\n",
    "Run the code below to see how to add spaces between the concatenated strings. \n"
   ]
  },
  {
   "cell_type": "code",
   "execution_count": null,
   "metadata": {},
   "outputs": [],
   "source": [
    "print('I ' + 'learn ' + 'programming')\n",
    "print('I'+' learn'+' programming')\n",
    "print('I' + ' ' + 'learn' + ' ' + 'programming')"
   ]
  },
  {
   "cell_type": "markdown",
   "metadata": {},
   "source": [
    "## <center><span style=\"color:MidnightBlue\">What do you observe?</span> \n",
    "\n",
    "\n",
    "<center>- How can we add the space between the strings when we concatenate strings? <br> \n",
    "\n",
    "\n",
    "    \n",
    "<center>- Does the space outside the quotation marks matters? <br>\n",
    "\n",
    "\n",
    "\n",
    "\n",
    "![image](./Images/Diss.jpg)\n",
    "\n",
    "Try concatenating a string to the int (or float) like that:\n",
    "```python\n",
    "'text' + 4\n",
    "```\n",
    "or with our variables \n",
    "```python\n",
    "name + WV\n",
    "``` "
   ]
  },
  {
   "cell_type": "code",
   "execution_count": null,
   "metadata": {},
   "outputs": [],
   "source": [
    "#Your code here\n",
    "\n",
    "#"
   ]
  },
  {
   "cell_type": "markdown",
   "metadata": {},
   "source": [
    "![image](./Images/lama3.jpg)\n",
    "\n",
    "The code to convert number to str:\n",
    "```python\n",
    "srt(5)\n",
    "```\n",
    "or\n",
    "```python\n",
    "srt(variable type int or float)\n",
    "```\n",
    "Try converting the integer to the string in the cell bellow. And concatenate it to some string<br>\n"
   ]
  },
  {
   "cell_type": "code",
   "execution_count": null,
   "metadata": {},
   "outputs": [],
   "source": [
    "#Your code here\n",
    "\n",
    "#"
   ]
  },
  {
   "cell_type": "markdown",
   "metadata": {},
   "source": [
    "\n",
    "# <span style=\"color:Maroon\">Homework 1:</span> Guess the word! \n",
    "![image](./Images/HW.jpg)\n",
    " \n",
    "Create a word guessing game, where the user has to guess each letter. For example, you gues the word `bug`. User has to guess three letters\n",
    "- `b` -> What is the second letter of the alphabet?\n",
    "- `u` -> What is the first letter of the synonym to the word 'beautiful'?\n",
    "- `g` -> Fourth letter of the name of the game where the numbers are called (randomly drawn), and the player has to cover a given arrangement of numbers (usually a line of 5 numbers).    \n",
    "The game should be written in a single cell. In the beginning, the program should display the concept of the game. Then the user is asked to guess a letter one (user is given a hint for each letter, such as shown in the example). After the user enters all the letters, the program displays the word made out of the letters the user has entered. The word must be a minimum of 5 letters and a maximum of 10 letters.\n",
    "\n",
    "__<span style=\"color:MidnightBlue\">P.S.</span>__  Testing a code line by line is a good practice. Besides, in case your big code has an error, you can test different lines of the code in the separate cell. \n",
    "\n",
    "**<span style=\"color:LIME\"> Students are asked to send the filled notebook (filled by them - they all have unique notebooks with their names and variables) with the HW to the teacher. The due date is up to the teacher. When setting a due date, keep in mind that it is better to have checked notebooks before the next lesson. In the next lesson, the teacher tells each student how many coins they got for the HW. Also, for the teacher, it is good to count students' coins in Excel, for example, to avoid cheating and to see how each kid is performing.  </span>**\n",
    "<br>  \n",
    "<center> You can earn maximum <span style=\"color:Goldenrod;font-weight:bold\">4 coins</span> for this homework\n",
    "\n",
    "**<span style=\"color:LIME\"> 4 coins are given if the task is 100% completed. If there are mistakes or some parts of the exercise are not done. Teacher makes a decision on how many coins the student has earned  </span>**"
   ]
  },
  {
   "cell_type": "code",
   "execution_count": null,
   "metadata": {},
   "outputs": [],
   "source": [
    "#Your code here\n",
    "\n",
    "#\n"
   ]
  },
  {
   "cell_type": "code",
   "execution_count": null,
   "metadata": {},
   "outputs": [],
   "source": []
  }
 ],
 "metadata": {
  "kernelspec": {
   "display_name": "Python 3",
   "language": "python",
   "name": "python3"
  },
  "language_info": {
   "codemirror_mode": {
    "name": "ipython",
    "version": 3
   },
   "file_extension": ".py",
   "mimetype": "text/x-python",
   "name": "python",
   "nbconvert_exporter": "python",
   "pygments_lexer": "ipython3",
   "version": "3.7.6"
  }
 },
 "nbformat": 4,
 "nbformat_minor": 2
}
